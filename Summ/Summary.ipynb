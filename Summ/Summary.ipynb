{
 "cells": [
  {
   "cell_type": "markdown",
   "id": "090d96bd",
   "metadata": {},
   "source": [
    "## 1. **Data Source and Format**\n",
    "\n",
    "The data primarily comes from several sources:\n",
    "- **TSMC Quarterly Stock Prices**: This data was retrieved from Yahoo Finance (via the `yfinance` API) and is in CSV format, containing stock prices of TSMC on a quarterly basis.\n",
    "- **Earnings Call Transcripts**: The dataset was extracted from Hugging Face's API (`lamini/earnings-calls-qa`) and contains earnings call Q&A transcripts, which have been filtered to focus on TSMC-related queries and answers. This data is stored in CSV format.\n",
    "- **Earthquake Data**: The dataset contains earthquake events (magnitude ≥ 5.5) from Taiwan between 2020 and 2025, obtained via the USGS Earthquake API in GeoJSON format and converted into a CSV file.\n",
    "- **Named Entity Recognition (NER) Data**: Using `spaCy`, named entities were extracted from TSMC earnings call transcripts and stored in CSV format, which includes specific labels such as organization names, product references, and monetary terms.\n",
    "\n",
    "The data is updated periodically, with stock prices and earthquake data being updated in real-time or with frequent releases."
   ]
  },
  {
   "cell_type": "markdown",
   "id": "191ec536",
   "metadata": {},
   "source": [
    "## 2. **Data Retrieval**\n",
    "\n",
    "- **Earnings Data**: Retrieved using the `requests` library from Hugging Face's dataset server via API calls, fetching a batch of earnings data related to TSMC.\n",
    "- **Stock Data**: Retrieved from Yahoo Finance using the `yfinance` library, specifically for TSMC’s stock history over the past 5 years.\n",
    "- **Earthquake Data**: Retrieved from the USGS Earthquake API using `requests`, filtering earthquakes based on magnitude and region (Taiwan).\n",
    "- **NER Data**: Extracted using `spaCy` from the filtered earnings call transcripts, focusing on named entities relevant to TSMC and the semiconductor industry."
   ]
  },
  {
   "cell_type": "markdown",
   "id": "6af8c2a7",
   "metadata": {},
   "source": [
    "## 3. **Data Transformation and Cleaning**\n",
    "\n",
    "The raw data underwent several cleaning and transformation steps:\n",
    "- **Stock Data**: Missing values in the stock dataset were handled, and the \"Date\" column was converted to datetime format. Percent changes in stock prices were computed, and extreme movements (spikes or dips) were flagged.\n",
    "- **Earnings Call Data**: Missing transcripts were replaced with empty strings. Named Entity Recognition (NER) was applied to identify key entities like \"Apple\", \"5G\", and \"AI\" from the earnings call text.\n",
    "- **Earthquake Data**: Data was filtered to include only earthquakes with a magnitude greater than or equal to 5.5 and relevant location information was extracted.\n",
    "- **NER Data**: After applying `spaCy`'s NER model, the data was enriched with entity extraction from the transcripts, marking important terms such as company names, monetary values, and products. Additionally, **custom word filtering** was applied from the Bing News articles, with specific keywords such as **\"earthquake\"** and **\"magnitude\"** being manually added to enhance entity recognition for relevant events. This was done to capture additional entities that could impact the analysis, such as natural disasters and related quantifiers."
   ]
  },
  {
   "cell_type": "markdown",
   "id": "794dd056",
   "metadata": {},
   "source": []
  },
  {
   "cell_type": "markdown",
   "id": "12af5319",
   "metadata": {},
   "source": [
    "## 4. **Data Verification and Testing**\n",
    "\n",
    "Tests were applied to ensure the integrity of the data:\n",
    "- **Pytest Testing**: Verification was done to ensure no missing values were present in the final datasets, and the resulting number of rows was consistent with expectations.\n",
    "- **Percent Change Calculation**: For the stock data, percent change calculations were verified for accuracy, ensuring no erroneous or extreme values."
   ]
  },
  {
   "cell_type": "markdown",
   "id": "87ac9503",
   "metadata": {},
   "source": [
    "## 5. **Data Enrichment**\n",
    "\n",
    "- **Named Entity Recognition**: Key entities were identified and flagged from the earnings call transcripts using `spaCy`, with important entities related to TSMC highlighted (e.g., “Apple”, “5G”, “AI”).\n",
    "- **Earthquake Data Enrichment**: Earthquake events were linked to the quarterly stock data based on timestamps, and the magnitude of significant earthquakes was noted.\n",
    "- **Quarterly Data Merging**: The stock price, NER, and earthquake data were merged by quarter to provide a comprehensive view of the events influencing stock prices."
   ]
  },
  {
   "cell_type": "markdown",
   "id": "8084758d",
   "metadata": {},
   "source": [
    "## 6. **Summary Statistics**\n",
    "\n",
    "![Impact of Earthquakes on Supply Chain Resilience in TSMC Semiconductor Industry](Plots/Conclusion.png)\n",
    "\n",
    "- **Stock Data**:\n",
    "   - The **average quarterly stock price change** for TSMC shows a **significant volatility** influenced by both **TSMC's earnings reports** and **earthquake events**.\n",
    "   - The **largest dips** in stock prices correlate strongly with earthquake events:\n",
    "     - **2023-Q1** saw a **-13.0%** drop in stock price, which coincided with a **major earthquake** (M6.5) in the region, likely impacting semiconductor production and supply chains.\n",
    "     - **2022-Q2** also experienced a **-13.0%** dip, potentially influenced by multiple factors including supply chain disruptions due to natural disasters and global semiconductor shortages, alongside other macroeconomic pressures.\n",
    "     - **2024-Q1** showed a **-15.7% dip**, which was directly associated with an **M6.1 earthquake** that affected TSMC's wafer production capacity, with estimates indicating **20,000 wafers** could have been impacted by the earthquake.\n",
    "   \n",
    "   - **Significant Rises**:\n",
    "     - On the other hand, **2020-Q3** saw an impressive **+35.2%** rise in stock price following a **TSMC earnings call** on the successful release of its **N5 process technology**, showing how company-specific factors also drive stock performance.\n",
    "\n",
    "- **Earthquake Impact**:\n",
    "   - **Earthquake events** with magnitudes **≥ 5.5** had noticeable correlations with TSMC stock price dips. For example, **in 2023-Q1**, a magnitude **6.2 earthquake** caused a **+9.1%** rise, likely attributed to recovery or positive sentiment surrounding post-earthquake rebuilding or operational continuity.\n",
    "   - The **largest earthquake-related dips** were observed in the quarters following major tremors in Taiwan, such as in **2022-Q1** and **2024-Q1**, where stock price changes were **-13.0%** and **-15.7%**, respectively.\n",
    "\n",
    "The plot (above) highlights the direct connection between **earthquake-related events** and the **stock price dips**. The annotations clearly mark significant **earthquake events**, and the stock price drops in those quarters show how external shocks like earthquakes can have a **lasting impact** on stock market performance, especially in sectors reliant on physical infrastructure like semiconductor manufacturing."
   ]
  },
  {
   "cell_type": "markdown",
   "id": "36d18cae",
   "metadata": {},
   "source": []
  },
  {
   "cell_type": "markdown",
   "id": "9926a622",
   "metadata": {},
   "source": [
    "## 7. Visualization\n",
    "![](Plots/Stock_Prices_Rise_and_Dip_Trends.png)\n",
    "\n",
    "### Stock Price Movements\n",
    "\n",
    "- **Cyclical Pattern**: Stock movements display a **cyclical pattern** with 2–3 quarter intervals, hinting at delayed reactions to major news.\n",
    "- **Sharp Rises**: Sharp rises (e.g., **2020-Q3**, **2024-Q1**) are often followed by **minor corrections**, reflecting market adjustments.\n",
    "- **Notable Low in Mid-2022**: A notable low in **mid-2022** aligns with frequent earthquake mentions and fewer key product announcements, highlighting **external uncertainties**.\n",
    "\n",
    "![](Plots/Quarter_Wise_NER_2020Q1_to_2022Q2.png)\n",
    "\n",
    "### Key Named Entities in News\n",
    "\n",
    "- **Dominant Terms**: The most frequent terms such as **\"Earthquake\"**, **\"Magnitude\"**, **\"Taiwan\"**, **\"Semiconductor\"**, and **\"Manufacturing\"** highlight earthquake concerns about **regional risks**.\n",
    "- **Emerging Themes**: New themes like **\"$100 billion\"**, **\"Intel\"**, **\"Arizona\"**, and **\"TSMC 20,000 wafers\"** reflect major **capital investments**.\n",
    "- **Global Interest**: Frequent mentions of **U.S. companies** (Intel, AMD), locations (Arizona, Japan), and financial figures indicate strong **global interest** in **TSMC’s supply chain** and **geopolitical exposure**.\n",
    "\n",
    "![WordCloud of NER from Bing News Articles](Plots/WordCloud.png)\n",
    "\n",
    "### Strategic Terms in Earnings Calls\n",
    "\n",
    "- **2021-Q4**: **2021-Q4** had an exceptionally high frequency (~110 mentions) of **strategic terms** such as **N5**, **N4P**, **N3**, **AI**, and **IoT**, indicating **significant roadmap announcements** from TSMC.\n",
    "- **Advanced Processes**: Increased references to advanced processes (especially **N3** and **N5 nodes**) during these quarters correlated strongly with **investor enthusiasm** and **stock price improvements**.\n",
    "- **Earlier Quarters**: Earlier periods (e.g., **2020-Q1/Q2**) showed lower entity mentions, reflecting fewer major **technological disclosures** or **strategic product rollouts**, resulting in **limited market impact**."
   ]
  },
  {
   "cell_type": "markdown",
   "id": "4d3b6122",
   "metadata": {},
   "source": []
  },
  {
   "cell_type": "markdown",
   "id": "e8814d04",
   "metadata": {},
   "source": [
    "### Git Log Summary\n",
    "![](GitGraphLog.png)"
   ]
  },
  {
   "cell_type": "markdown",
   "id": "7ae104c1",
   "metadata": {},
   "source": []
  }
 ],
 "metadata": {
  "kernelspec": {
   "display_name": ".venv",
   "language": "python",
   "name": "python3"
  },
  "language_info": {
   "codemirror_mode": {
    "name": "ipython",
    "version": 3
   },
   "file_extension": ".py",
   "mimetype": "text/x-python",
   "name": "python",
   "nbconvert_exporter": "python",
   "pygments_lexer": "ipython3",
   "version": "3.11.4"
  }
 },
 "nbformat": 4,
 "nbformat_minor": 5
}
